{
 "cells": [
  {
   "cell_type": "markdown",
   "id": "5a358828",
   "metadata": {},
   "source": [
    "# t-test independent\n"
   ]
  },
  {
   "cell_type": "code",
   "execution_count": null,
   "id": "78f8e1a9",
   "metadata": {},
   "outputs": [],
   "source": [
    "A university professor gave online lectures instead of face-to-face classes due to Covid-19. \n",
    "Later, he uploaded recorded lectures to the cloud for students who followed the course asynchronously \n",
    "(those who did not attend the lesson but later watched the records). \n",
    "However, he believes that the students who attend class at the class time and participate in the process are more successful. \n",
    "Therefore, he recorded the average grades of the students at the end of the semester. \n",
    "The data is below.\n",
    "synchronous = [94. , 84.9, 82.6, 69.5, 80.1, 79.6, 81.4, 77.8, 81.7, 78.8, 73.2, 87.9, 87.9, 93.5, 82.3, 79.3, 78.3, 71.6, 88.6, 74.6, 74.1, 80.6]\n",
    "asynchronous = [77.1, 71.7, 91. , 72.2, 74.8, 85.1, 67.6, 69.9, 75.3, 71.7, 65.7, 72.6, 71.5, 78.2]"
   ]
  },
  {
   "cell_type": "code",
   "execution_count": null,
   "id": "1920e2f8",
   "metadata": {},
   "outputs": [],
   "source": []
  },
  {
   "cell_type": "code",
   "execution_count": null,
   "id": "615e777b",
   "metadata": {},
   "outputs": [],
   "source": [
    "1. Defining Hypothesis\n",
    "Since the grades are obtained from the different individuals, the data is unpaired.\n",
    "H₀: μₛ≤μₐ\n",
    "H₁: μₛ>μₐ"
   ]
  },
  {
   "cell_type": "code",
   "execution_count": null,
   "id": "3b069ee5",
   "metadata": {},
   "outputs": [],
   "source": [
    "import numpy as np\n",
    "sync = np.array([94. , 84.9, 82.6, 69.5, 80.1, 79.6, 81.4, 77.8, 81.7, 78.8, 73.2,87.9, 87.9, 93.5, 82.3, 79.3, 78.3, 71.6, 88.6, 74.6, 74.1, 80.6])\n",
    "asyncr = np.array([77.1, 71.7, 91. , 72.2, 74.8, 85.1, 67.6, 69.9, 75.3, 71.7, 65.7, 72.6, 71.5, 78.2])\n"
   ]
  },
  {
   "cell_type": "code",
   "execution_count": null,
   "id": "bca82a13",
   "metadata": {},
   "outputs": [],
   "source": [
    "ttest,p_value = stats.ttest_ind(sync,asyncr)\n",
    "print(\"p value:%.8f\" % p_value)\n",
    "print(\"since the hypothesis is one sided >> use p_value/2 >> p_value_one_sided:%.4f\" %(p_value/2))\n",
    "if p_value/2 <0.05:\n",
    "    print(\"Reject null hypothesis\")\n",
    "else:\n",
    "    print(\"Fail to reject null hypothesis\")"
   ]
  },
  {
   "cell_type": "code",
   "execution_count": null,
   "id": "c333c133",
   "metadata": {},
   "outputs": [],
   "source": [
    "p value:0.00753598\n",
    "since the hypothesis is one sided >> use p_value/2 >> p_value_one_sided:0.0038\n",
    "Reject null hypothesis"
   ]
  },
  {
   "cell_type": "code",
   "execution_count": null,
   "id": "6ca61400",
   "metadata": {},
   "outputs": [],
   "source": [
    "At this significance level, there is enough evidence to conclude that the average grade of the students who \n",
    "follow the course synchronously is higher than the students who follow the course asynchronously."
   ]
  },
  {
   "cell_type": "markdown",
   "id": "d78bc889",
   "metadata": {},
   "source": [
    "# ANOVA "
   ]
  },
  {
   "cell_type": "code",
   "execution_count": null,
   "id": "54297685",
   "metadata": {},
   "outputs": [],
   "source": [
    "A pediatrician wants to see the effect of formula consumption on the average monthly weight gain (in gr) of babies. \n",
    "For this reason, she collected data from three different groups. The first group is exclusively breastfed children (receives only breast milk), the second group is children who are fed with only formula and the last group is both formula and breastfed children. These data are as below.\n",
    "only_breast=[794.1, 716.9, 993. , 724.7, 760.9, 908.2, 659.3 , 690.8, 768.7, 717.3 , 630.7, 729.5, 714.1, 810.3, 583.5, 679.9, 865.1]\n",
    "only_formula=[ 898.8, 881.2, 940.2, 966.2, 957.5, 1061.7, 1046.2, 980.4, 895.6, 919.7, 1074.1, 952.5, 796.3, 859.6, 871.1 , 1047.5, 919.1 , 1160.5, 996.9]\n",
    "both=[976.4, 656.4, 861.2, 706.8, 718.5, 717.1, 759.8, 894.6, 867.6, 805.6, 765.4, 800.3, 789.9, 875.3, 740. , 799.4, 790.3, 795.2 , 823.6, 818.7, 926.8, 791.7, 948.3]"
   ]
  },
  {
   "cell_type": "code",
   "execution_count": null,
   "id": "3b5697eb",
   "metadata": {},
   "outputs": [],
   "source": [
    "According to this information, conduct the hypothesis testing to check whether there is a difference between the average monthly gain of these three groups by using a 0.05 significance level. If there is a significant difference, perform further analysis to find what caused the difference.\n",
    "Before doing hypothesis testing, check the related assumptions."
   ]
  },
  {
   "cell_type": "code",
   "execution_count": null,
   "id": "c462f0d4",
   "metadata": {},
   "outputs": [],
   "source": [
    "1. Defining Hypothesis\n",
    "H₀: μ₁=μ₂=μ₃ or The mean of the samples is the same.\n",
    "H₁: At least one of them is different."
   ]
  },
  {
   "cell_type": "code",
   "execution_count": null,
   "id": "e8270928",
   "metadata": {},
   "outputs": [],
   "source": [
    "we can perform the parametric version of the test for more than 2gro ups and unpaired data.\n"
   ]
  },
  {
   "cell_type": "code",
   "execution_count": null,
   "id": "322a4fbd",
   "metadata": {},
   "outputs": [],
   "source": [
    "F, p_value = stats.f_oneway(only_breast,only_formula,both)\n",
    "print(\"p value:%.6f\" % p_value)\n",
    "if p_value <0.05:\n",
    "    print(\"Reject null hypothesis\")\n",
    "else:\n",
    "    print(\"Fail to reject null hypothesis\")"
   ]
  },
  {
   "cell_type": "code",
   "execution_count": null,
   "id": "d05beeb1",
   "metadata": {},
   "outputs": [],
   "source": [
    "p value:0.000000\n",
    "Reject null hypothesis"
   ]
  },
  {
   "cell_type": "code",
   "execution_count": null,
   "id": "214b982a",
   "metadata": {},
   "outputs": [],
   "source": [
    "At this significance level, it can be concluded that at least one of the groups has a different average monthly weight gain. To find which group or groups cause the difference, \n",
    "we need to perform a posthoc test/pairwise comparison as below."
   ]
  },
  {
   "cell_type": "code",
   "execution_count": null,
   "id": "279d2a7c",
   "metadata": {},
   "outputs": [],
   "source": [
    "# pip install scikit-posthocs\n",
    "# Pairwise T test for multiple comparisons of independent groups. May be used after a parametric ANOVA to do pairwise comparisons.\n",
    "\n",
    "import scikit_posthocs as sp\n",
    "posthoc_df= sp.posthoc_ttest([only_breast,only_formula,both], equal_var=True, p_adjust=\"bonferroni\")\n",
    "\n",
    "group_names= [\"only breast\", \"only formula\",\"both\"]\n",
    "posthoc_df.columns= group_names\n",
    "posthoc_df.index= group_names\n",
    "posthoc_df.style.applymap(lambda x: \"background-color:violet\" if x<0.05 else \"background-color: white\")"
   ]
  },
  {
   "cell_type": "markdown",
   "id": "362146fc",
   "metadata": {},
   "source": [
    "At this significance level, it can be concluded that:\n",
    "“only breast” is different than “only formula”\n",
    "“only formula” is different than both “only breast” and “both”\n",
    "“both” is different than “only formula”\n"
   ]
  },
  {
   "cell_type": "code",
   "execution_count": null,
   "id": "a4ece96f",
   "metadata": {},
   "outputs": [],
   "source": [
    "A : only breast B : only formula\n"
   ]
  },
  {
   "cell_type": "markdown",
   "id": "28f6f3d1",
   "metadata": {},
   "source": [
    "# Mann Whitney U"
   ]
  },
  {
   "cell_type": "code",
   "execution_count": null,
   "id": "513cb31a",
   "metadata": {},
   "outputs": [],
   "source": [
    "A human resource specialist working in a technology company is interested in the overwork time of different teams. \n",
    "To investigate whether there is a difference between overtime of the software development team and the test team, she selected 17 employees randomly in each of the two teams and recorded their weekly average overwork time in terms of an hour. \n",
    "The data is below."
   ]
  },
  {
   "cell_type": "code",
   "execution_count": null,
   "id": "0a6720bf",
   "metadata": {},
   "outputs": [],
   "source": [
    "test_team=[6.2, 7.1, 1.5, 2,3 , 2, 1.5, 6.1, 2.4, 2.3, 12.4, 1.8, 5.3, 3.1, 9.4, 2.3, 4.1]\n",
    "developer_team=[2.3, 2.1, 1.4, 2.0, 8.7, 2.2, 3.1, 4.2, 3.6, 2.5, 3.1, 6.2, 12.1, 3.9, 2.2, 1.2 ,3.4]"
   ]
  },
  {
   "cell_type": "code",
   "execution_count": null,
   "id": "e4ffae9a",
   "metadata": {},
   "outputs": [],
   "source": [
    " 1 5 8 10 100  Mean : 24 Median : 8 \n",
    " \n",
    " 1 5 8 10 15   Mean : 8  Median : 8\n",
    " \n",
    " mean is heavily influenced by outliers\n",
    " \n",
    " \n",
    " "
   ]
  },
  {
   "cell_type": "code",
   "execution_count": null,
   "id": "7b6e05e1",
   "metadata": {},
   "outputs": [],
   "source": [
    "According to this information, conduct the hypothesis testing to check whether there is a difference between the overwork time of two teams by using a 0.05 significance level"
   ]
  },
  {
   "cell_type": "code",
   "execution_count": null,
   "id": "d84a245a",
   "metadata": {},
   "outputs": [],
   "source": [
    "1. Defining Hypothesis\n",
    "H₀: μ₁≤μ₂\n",
    "H₁: μ₁>μ₂"
   ]
  },
  {
   "cell_type": "code",
   "execution_count": null,
   "id": "55de7531",
   "metadata": {},
   "outputs": [],
   "source": [
    "There are two groups, and data is collected from different individuals, so it is not paired. However, the normality assumption is not satisfied; therefore, \n",
    "we need to use the nonparametric version of 2 group comparison for unpaired data: the Mann-Whitney U Test."
   ]
  },
  {
   "cell_type": "code",
   "execution_count": null,
   "id": "44919d28",
   "metadata": {},
   "outputs": [],
   "source": [
    "ttest,pvalue = stats.mannwhitneyu(test_team,developer_team, alternative=\"two-sided\")\n",
    "print(\"p-value:%.4f\" % pvalue)\n",
    "if pvalue <0.05:\n",
    "    print(\"Reject null hypothesis\")\n",
    "else:\n",
    "    print(\"Fail to recejt null hypothesis\")"
   ]
  },
  {
   "cell_type": "code",
   "execution_count": null,
   "id": "eb3fcc52",
   "metadata": {},
   "outputs": [],
   "source": [
    "p-value:0.8226\n",
    "Fail to rejectt null hypothesis"
   ]
  },
  {
   "cell_type": "code",
   "execution_count": null,
   "id": "8a41f18c",
   "metadata": {},
   "outputs": [],
   "source": [
    "At this significance level, it can be said that there is no statistically significant difference between the average overwork time of the two teams."
   ]
  },
  {
   "cell_type": "markdown",
   "id": "2619baf3",
   "metadata": {},
   "source": [
    "# Kruskal-Wallis"
   ]
  },
  {
   "cell_type": "code",
   "execution_count": null,
   "id": "92798275",
   "metadata": {},
   "outputs": [],
   "source": [
    "An e-commerce company regularly advertises on YouTube, Instagram, and Facebook for its campaigns. \n",
    "However, the new manager was curious about if there was any difference between the number of customers attracted by these platforms. \n",
    "Therefore, she started to use Adjust, an application that allows you to find out where your users come from. \n",
    "The daily numbers reported from Adjust for each platform are as below.\n",
    "Youtube=[1913, 1879, 1939, 2146, 2040, 2127, 2122, 2156, 2036, 1974, 1956, 2146, 2151, 1943, 2125]\n",
    "Instagram = [2305., 2355., 2203., 2231., 2185., 2420., 2386., 2410., 2340., 2349., 2241., 2396., 2244., 2267., 2281.]\n",
    "Facebook = [2133., 2522., 2124., 2551., 2293., 2367., 2460., 2311., 2178., 2113., 2048., 2443., 2265., 2095., 2528."
   ]
  },
  {
   "cell_type": "code",
   "execution_count": null,
   "id": "2adffa8e",
   "metadata": {},
   "outputs": [],
   "source": [
    "paired or unpaired date\n",
    "\n",
    "paired : same user [ x weight before diet , x weight after diet] independent test\n",
    "unpaired date : different user [ async, sync] paired ttest\n",
    "\n",
    "Normality or Variance : satisfied\n",
    "\n",
    "Normality : distributed : Parametrics : ANOVA\n",
    "Normality : one of them is not : non parametrics test : kruskal wallis\n",
    "\n",
    "\n"
   ]
  },
  {
   "cell_type": "code",
   "execution_count": null,
   "id": "fe7950ec",
   "metadata": {},
   "outputs": [],
   "source": [
    "According to this information, conduct the hypothesis testing to check whether there is a difference between the average customer acquisition of these three platforms using a 0.05 significance level. If there is a significant difference, perform further analysis to find that caused the difference"
   ]
  },
  {
   "cell_type": "code",
   "execution_count": null,
   "id": "9437332a",
   "metadata": {},
   "outputs": [],
   "source": [
    "H₀: μ₁=μ₂=μ₃ or The mean of the samples is the same.\n",
    "H₁: At least one of them is different."
   ]
  },
  {
   "cell_type": "code",
   "execution_count": null,
   "id": "797dfd85",
   "metadata": {},
   "outputs": [],
   "source": [
    "Assumption Check\n",
    "H₀: The data is normally distributed.\n",
    "H₁: The data is not normally distributed.\n",
    "H₀: The variances of the samples are the same.\n",
    "H₁: The variances of the samples are different."
   ]
  },
  {
   "cell_type": "code",
   "execution_count": null,
   "id": "180032bf",
   "metadata": {},
   "outputs": [],
   "source": [
    "check_normality(youtube)\n",
    "check_normality(instagram)\n",
    "check_normality(facebook)\n",
    "\n",
    "stat, pvalue_levene= stats.levene(youtube, instagram, facebook)\n",
    "\n",
    "print(\"p value:%.4f\" % pvalue_levene)\n",
    "if pvalue_levene <0.05:\n",
    "    print(\"Reject null hypothesis >> The variances of the samples are different.\")\n",
    "else:\n",
    "    print(\"Fail to reject null hypothesis >> The variances of the samples are same.\")"
   ]
  },
  {
   "cell_type": "code",
   "execution_count": null,
   "id": "c95b8ac8",
   "metadata": {},
   "outputs": [],
   "source": [
    "p value:0.0285\n",
    "Reject null hypothesis >> The data is not normally distributed\n",
    "p value:0.4156\n",
    "Fail to reject null hypothesis >> The data is normally distributed\n",
    "p value:0.1716\n",
    "Fail to reject null hypothesis >> The data is normally distributed\n",
    "p value:0.0012\n",
    "Reject null hypothesis >> The variances of the samples are different."
   ]
  },
  {
   "cell_type": "code",
   "execution_count": null,
   "id": "31825c7a",
   "metadata": {},
   "outputs": [],
   "source": [
    "The normality and variance homogeneity assumptions are not satisfied, \n",
    "therefore we need to use the nonparametric version of ANOVA for unpaired data (the data is collected from different sources)."
   ]
  },
  {
   "cell_type": "code",
   "execution_count": null,
   "id": "e543bb98",
   "metadata": {},
   "outputs": [],
   "source": [
    "F, p_value = stats.kruskal(youtube, instagram, facebook)\n",
    "print(\"p value:%.6f\" % p_value)\n",
    "if p_value <0.05:\n",
    "    print(\"Reject null hypothesis\")\n",
    "else:\n",
    "    print(\"Fail to reject null hypothesis\")"
   ]
  },
  {
   "cell_type": "code",
   "execution_count": null,
   "id": "b3b510c0",
   "metadata": {},
   "outputs": [],
   "source": [
    "p value:0.000015\n",
    "Reject null hypothesis"
   ]
  },
  {
   "cell_type": "code",
   "execution_count": null,
   "id": "721c61ee",
   "metadata": {},
   "outputs": [],
   "source": [
    "At this significance level, at least one of the average customer acquisition number is different.\n",
    "Note: Since the data is not normal, the nonparametric version of posthoc test is used."
   ]
  },
  {
   "cell_type": "code",
   "execution_count": null,
   "id": "0ab62788",
   "metadata": {},
   "outputs": [],
   "source": [
    "\n",
    "posthoc_df = sp.posthoc_mannwhitney([youtube,instagram, facebook], p_adjust = 'bonferroni')\n",
    "group_names= [\"youtube\", \"instagram\",\"facebook\"]\n",
    "posthoc_df.columns= group_names\n",
    "posthoc_df.index= group_names\n",
    "posthoc_df.style.applymap(lambda x: \"background-color:violet\" if x<0.05 else \"background-color: white\")"
   ]
  },
  {
   "cell_type": "code",
   "execution_count": null,
   "id": "7ff2dddc",
   "metadata": {},
   "outputs": [],
   "source": [
    "The average number of customers coming from YouTube is different than the other (actually smaller than the others)."
   ]
  },
  {
   "cell_type": "markdown",
   "id": "2ba73617",
   "metadata": {},
   "source": [
    "# t-test dependent\n"
   ]
  },
  {
   "cell_type": "code",
   "execution_count": null,
   "id": "547c6370",
   "metadata": {},
   "outputs": [],
   "source": [
    "The University Health Center diagnosed eighteen students with high cholesterol in the previous semester. \n",
    "Healthcare personnel told these patients about the dangers of high cholesterol and prescribed a diet program. \n",
    "One month later, the patients came for control, and their cholesterol level was reexamined. \n",
    "Test whether there is a difference in the cholesterol levels of the patients."
   ]
  },
  {
   "cell_type": "code",
   "execution_count": null,
   "id": "dc2fa8fa",
   "metadata": {},
   "outputs": [],
   "source": [
    "According to this information, conduct the hypothesis testing to check whether there is a decrease in the cholesterol levels of the patients after the diet by using a 0.05 significance level. Before doing hypothesis testing, \n",
    "check the related assumptions. Comment on the results"
   ]
  },
  {
   "cell_type": "code",
   "execution_count": null,
   "id": "8af88fb9",
   "metadata": {},
   "outputs": [],
   "source": [
    "test_results_before_diet=[224, 235, 223, 253, 253, 224, 244, 225, 259, 220, 242, 240, 239, 229, 276, 254, 237, 227]\n",
    "test_results_after_diet=[198, 195, 213, 190, 246, 206, 225, 199, 214, 210, 188, 205, 200, 220, 190, 199, 191, 218]"
   ]
  },
  {
   "cell_type": "code",
   "execution_count": null,
   "id": "1c9ff8ca",
   "metadata": {},
   "outputs": [],
   "source": [
    "1. Defining Hypothesis\n",
    "H₀: μd>=0 or The true mean difference is equal to or bigger than zero.\n",
    "H₁: μd<0 or The true mean difference is smaller than zero."
   ]
  },
  {
   "cell_type": "code",
   "execution_count": null,
   "id": "f0d22669",
   "metadata": {},
   "outputs": [],
   "source": [
    " Selecting the Proper Test\n",
    "The data is paired since data is collected from the same individuals and assumptions are satisfied, then we can use the dependent t-test."
   ]
  },
  {
   "cell_type": "code",
   "execution_count": null,
   "id": "f74e1f88",
   "metadata": {},
   "outputs": [],
   "source": [
    "test_stat, p_value_paired = stats.ttest_rel(test_results_before_diet,test_results_after_diet)\n",
    "print(\"p value:%.6f\" % p_value_paired , \"one tailed p value:%.6f\" %(p_value_paired/2))\n",
    "if p_value_paired <0.05:\n",
    "    print(\"Reject null hypothesis\")\n",
    "else:\n",
    "    print(\"Fail to reject null hypothesis\")"
   ]
  },
  {
   "cell_type": "code",
   "execution_count": null,
   "id": "a269d6b7",
   "metadata": {},
   "outputs": [],
   "source": [
    "p value:0.000008 one tailed p value:0.000004\n",
    "Reject null hypothesis"
   ]
  },
  {
   "cell_type": "code",
   "execution_count": null,
   "id": "ad753bf3",
   "metadata": {},
   "outputs": [],
   "source": [
    "At this significance level, there is enough evidence to conclude mean cholesterol level of patients has decreased after the diet."
   ]
  },
  {
   "cell_type": "code",
   "execution_count": null,
   "id": "810fd4f9",
   "metadata": {},
   "outputs": [],
   "source": []
  }
 ],
 "metadata": {
  "kernelspec": {
   "display_name": "Python 3 (ipykernel)",
   "language": "python",
   "name": "python3"
  },
  "language_info": {
   "codemirror_mode": {
    "name": "ipython",
    "version": 3
   },
   "file_extension": ".py",
   "mimetype": "text/x-python",
   "name": "python",
   "nbconvert_exporter": "python",
   "pygments_lexer": "ipython3",
   "version": "3.9.7"
  }
 },
 "nbformat": 4,
 "nbformat_minor": 5
}
